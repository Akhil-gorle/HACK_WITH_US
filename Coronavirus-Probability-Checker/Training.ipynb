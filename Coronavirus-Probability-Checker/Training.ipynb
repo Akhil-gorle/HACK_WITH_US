{
 "cells": [
  {
   "cell_type": "code",
   "execution_count": 1,
   "source": [
    "import pandas as pd\r\n",
    "import numpy as np\r\n",
    "from sklearn.linear_model import LogisticRegression\r\n",
    "import pickle\r\n",
    "\r\n",
    "def data_split(data, ratio):\r\n",
    "    np.random.seed(42)\r\n",
    "    shuffled = np.random.permutation(len(data))\r\n",
    "    test_set_size = int(len(data) * ratio)\r\n",
    "    test_indices = shuffled[:test_set_size]\r\n",
    "    train_indices = shuffled[test_set_size:]\r\n",
    "    return data.iloc[train_indices], data.iloc[test_indices]\r\n",
    "\r\n",
    "if __name__== \"__main__\":\r\n",
    "\r\n",
    "    # Read The Data\r\n",
    "    df = pd.read_csv('./data.csv')\r\n",
    "    train, test = data_split(df, 0.2)\r\n",
    "    X_train = train[['fever', 'bodyPain', 'age', 'runnyNose', 'diffBreath']].to_numpy()\r\n",
    "    X_test = test[['fever', 'bodyPain', 'age', 'runnyNose', 'diffBreath']].to_numpy()\r\n",
    "\r\n",
    "    Y_train = train[['infectionProb']].to_numpy().reshape(2312,)\r\n",
    "    Y_test = test[['infectionProb']].to_numpy().reshape(577,)\r\n",
    "\r\n",
    "    clf = LogisticRegression()\r\n",
    "    clf.fit(X_train, Y_train)\r\n",
    "\r\n",
    "    # open a file, where yu want to store the data\r\n",
    "    file = open('model.pkl','wb')\r\n",
    "\r\n",
    "    #dump information to that file\r\n",
    "    pickle.dump(clf, file)\r\n",
    "    file.close()\r\n"
   ],
   "outputs": [],
   "metadata": {}
  }
 ],
 "metadata": {
  "orig_nbformat": 4,
  "language_info": {
   "name": "python",
   "version": "3.8.5",
   "mimetype": "text/x-python",
   "codemirror_mode": {
    "name": "ipython",
    "version": 3
   },
   "pygments_lexer": "ipython3",
   "nbconvert_exporter": "python",
   "file_extension": ".py"
  },
  "kernelspec": {
   "name": "python3",
   "display_name": "Python 3.8.5 64-bit ('base': conda)"
  },
  "interpreter": {
   "hash": "514c875f458a4eeecf57fff9a8f241a0d348fbc5534b67b68517d23698dc73f9"
  }
 },
 "nbformat": 4,
 "nbformat_minor": 2
}